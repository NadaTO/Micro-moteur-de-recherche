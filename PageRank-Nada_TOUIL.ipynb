{
 "cells": [
  {
   "cell_type": "markdown",
   "metadata": {},
   "source": [
    "<h1 align=\"center\">Compte Rendu TD 2: L'algorithme du PageRank</h1> \n",
    "<h3 align=\"left\">Réalisé par : Nada TOUIL</h3>\n",
    "<img src=\"./Images/webmap.jpg\"></img>\n",
    "\n",
    "# Introduction\n",
    "\n",
    "Avant 1998, le graphe du web était une source d'information largement inutilisée et ignorée par les moteurs de recherche tels que Yahoo, ou Astalavista. Cependant, des chercheurs tels que Jon Kleinberg [2] et Brin et Page [3] ont utilisé cette ressource afin de créer une méthodologie algorithmiquement élégante qui a permis de développer les moteurs de recherche que l'on connait aujourd'hui. Ils ont alors principalement utilisé l'idée suivante: un lien hyperlink de ma page web vers une autre page peut être interprété comme une recommandation de ma part vers la page web en question. L’idée sous-jacente qui est exploitée est la suivante: une page web qui est citée très souvent doit être une page web plus importante que page web moins souvent citée. Cependant, cette idée n'est pas nouvelle, utiliser la bibliometrie (le nombre de citations) comme unique critère sélectif n’est pas suffisant. Par exemple, une lettre de recommandation pour un travail provenant du PDG d’orange aura surement plus de poids que les 10 autres lettres  de recommandation que vous auriez pu avoir. En conclusion, l’importance des recommandations (et non pas seulement leurs nombres) doit aussi être prise en compte dans le calcul de la notoriété d’une page web. C’est exactement le principe du **PageRank**.\n",
    "\n",
    "Dans les moteurs de recherche actuels, on associe à chaque page web indexée une valeur de \"PageRank\". Lorsque vous effectuez une recherche, le moteur de recherche vous retourne les pages web correspondant aux mots clés triés par ordre croissant de leur valeur de \"PageRank\". L’hypothèse sous-jacente qui est utilisée est que: la page web qui possède la valeur de \"PageRank\" la plus élevée doit être la plus pertinente pour les mots clés considérés. \n",
    "\n",
    "Afin de faire court, la notoriété (valeur du PageRank) d'une page web est définie comme suit: la notoriété d’une page web est importante, si elle est elle-même pointée par d’autres pages web avec une notoriété importante. Ce raisonnement circulaire est au coeur de l'algorithme qui va être développé durant cet exercice. Au travers de ce raisonnement circulaire, on en déduit que les valeurs de PageRank  sont en fait les valeurs des états stationnaires d'une immense chaîne de Markov. Les transitions de cette chaîne de Markov sont définies par le graphe du web. La matrice des transitions de cette chaîne de Markov est appelée \"Google\" matrice $\\mathbf{G}$. Afin de calculer ce vecteur d'états stationnaires, il faut cependant que la chaîne de Markov en question admette une solution unique. Pour cela, une des conditions est: qu’il faut que le graphe des transitions soit irréductible (c.-à-d. que le graphe forme une composante connexe) ce qui n'est pas le cas du graphe du web (cf. Fig. 1). L'algorithme du PageRank a permis a Brin et Page de contourner intelligemment cette difficulter appliquant une transformation sur la matrice d’adjacence afin de s’assumer de l’irréductibilité de celle-ci.\n",
    "\n",
    "<div align=\"center\">\n",
    "<img src=\"./Images/Scc.png\" width=\"500px\"></img>\n",
    "** Figure 1**\n",
    "</div>\n",
    "\n",
    "**Algorithme du PageRank**\n",
    "1. Normalisation de la matrice d'adjacence du graphe du web\n",
    "2. Découverte des noeuds du graphe du web ne possédant pas de lien de sortie (aucun lien hypertext)\n",
    "3. Création de la \"Google\" Matrice \n",
    "4. Calcul de la valeur des états stationnaires de la chaîne de Markov  \n",
    "\n",
    "Dans la première partie de cet exercice nous allons considérer le graphe orienté suivant $\\mathcal{G}(\\mathcal{V}, \\mathcal{E})$ (cf. **Fig. 2**), comme un petit exemple du graphe du web. Chaque arc $e \\in \\mathcal{E}$ représente un lien hyperlink d'une page web $v \\in \\mathcal{V}$ (un noeud du graphe ) vers une autre.\n",
    "\n",
    "<div align=\"center\">\n",
    "<img src=\"Images/GraphPageRank.png\" width=\"400px\"></img>\n",
    "** Figure 2**\n",
    "</div>\n",
    "\n",
    "### Notations\n",
    "$\\mathbf{A}$: Matrice d'ajacence du graphe $\\mathcal{G}(\\mathcal{V}, \\mathcal{E})$\n",
    "\n",
    "$\\mathbf{H}$: Matrice d'adjacence normalisée\n",
    "\n",
    "$\\mathbf{G}$: Matrice dense, stochastique et complete appelée Google matrice \n",
    "\n",
    "$\\mathbf{\\pi}^T$: Vecteur ligne, stationnaire, appelé vecteur PageRank  \n",
    "\n",
    "$n$ : nombre de pages web dans le moteur de recherche\n",
    "\n",
    "$\\alpha$: paramétre entre 0 et 1\n",
    "\n",
    "### Conventions\n",
    "\n",
    "$\\mathbf{e}^T$ : est une vecteur ligne $\\begin{pmatrix} 1 & 1 & 1 & 1 \\end{pmatrix}$\n",
    "\n",
    "$\\mathbf{e}$ : est un vecteur colonne  $\\begin{pmatrix} 1 \\\\ 1 \\\\ 1 \\\\ 1 \\end{pmatrix}$\n",
    "\n",
    "$\\sigma(\\mathbf{A})$ est l'ensemble (set) des valeurs propres de la matrice $\\mathbf{A}$\n",
    "\n",
    "$\\lambda_{max} = \\max_{\\lambda \\in \\sigma(\\mathbf{A})} \\lvert \\lambda \\lvert$ est la plus grande valeur propre de la matrice $\\mathbf{A}$\n",
    "\n",
    "$\\mathbf{e} \\otimes \\mathbf{e}^T$ : est le produit exterieur $\\begin{pmatrix} 1 \\\\ 2 \\\\ 3  \\end{pmatrix}  \\otimes \\begin{pmatrix} 1 & 2 & 3 \\end{pmatrix} = \\begin{pmatrix} 1 & 2 & 3  \\\\ 2 & 4 & 6 \\\\ 3 & 6 & 9 \\end{pmatrix}$\n",
    "\n",
    "### Rapels d'algébre vectoriel en python \n",
    "Multiplication et division terme à terme:\n",
    "```Python\n",
    "import numpy as np\n",
    "x = np.array([2, 2, 2])\n",
    "2*x\n",
    ">>> array([4, 4, 4])\n",
    "x = np.array([2, 2, 2])\n",
    "x/2\n",
    ">>> array([1, 1, 1])\n",
    "A = np.array([[2, 2, 2], [2, 2, 2], [2, 2, 2]])\n",
    "A/2\n",
    ">>> np.array([[1, 1, 1], \n",
    "              [1, 1, 1], \n",
    "              [1, 1, 1]])\n",
    "```\n",
    "\n",
    "Division d'une matrice par un vecteur \n",
    "```Python\n",
    "A = np.array([[1, 1], [4, 4]])\n",
    "b = np.array([1, 3])\n",
    "(A.T/b).T\n",
    ">>> array([[ 1.        ,  1.        ],\n",
    "           [ 1.33333333,  1.33333333]])\n",
    "```\n",
    "\n",
    "Produit vectoriel:\n",
    "```Python\n",
    "import numpy as np\n",
    "\n",
    "A = np.array([[2, 2, 2], [2, 2, 2]])\n",
    "x = np.array([2, 2, 2])\n",
    "np.dot(A,x)\n",
    ">>> array([12, 12])\n",
    "\n",
    "a = np.array([1, 1, 1])\n",
    "b = np.array([1, 1, 1])\n",
    "np.outer(a,b)\n",
    ">>> array([[1, 1, 1], \n",
    "           [1, 1, 1], \n",
    "           [1, 1, 1]])\n",
    "```\n",
    "\n",
    "Transposé:\n",
    "```Python\n",
    "import numpy as np\n",
    "\n",
    "A = np.array([[1, 2], [3, 4]])\n",
    "A.T\n",
    ">>> array([[1, 3],\n",
    "           [2, 4]])\n",
    "```\n",
    "\n",
    "Dimention d'une matrice \n",
    "```Python\n",
    "A = np.array([[1, 1, 1], [1, 1, 1]])\n",
    "n, m = A.shape\n",
    "print(n, m)\n",
    ">>> 2 3\n",
    "```\n",
    "\n",
    "Somme d'une ligne d'une matrice\n",
    "```Python\n",
    "A = np.array([[1, 1, 1,], [2, 2, 2]])\n",
    "A[1,:].sum()\n",
    ">>> 6\n",
    "```"
   ]
  },
  {
   "cell_type": "code",
   "execution_count": 1,
   "metadata": {},
   "outputs": [
    {
     "data": {
      "text/html": [
       "<style>\n",
       "    div.cell{\n",
       "      margin-left:auto;\n",
       "      margin-right:auto;\n",
       "    }\n",
       "\n",
       "    h1,h2,h3,h4,h5 {\n",
       "      align: left;\n",
       "      font-family:\"Charis SIL\", serif;\n",
       "    }\n",
       "\n",
       "    div.text_cell_render{\n",
       "      /*\n",
       "      font-family: \"Charis SIL\", sans-serif;\n",
       "      */\n",
       "      line-height: 145%;\n",
       "      font-size: 145%;\n",
       "      line-height: 145%;\n",
       "    }\n",
       "\n",
       "\n",
       "    /*\n",
       "    .CodeMirror{\n",
       "      font-family: \"Source Code Pro\", monospace;\n",
       "    }\n",
       "    */\n",
       "    \n",
       "    .text_cell_render h5 {\n",
       "      font-weight: 300;\n",
       "      font-size: 22pt;\n",
       "      color: #4057A1;\n",
       "      font-style: italic;\n",
       "      margin-bottom: .5em;\n",
       "      margin-top: 0.5em;\n",
       "      display: block;\n",
       "    }\n",
       "\n",
       "    div.warn {\n",
       "      margin-top: 30px;\n",
       "      background-color: #fcf2f2;\n",
       "      border-color: #dFb5b4;\n",
       "      border-left: 5px solid #dfb5b4;\n",
       "      padding: 0.5em;\n",
       "    }\n",
       "\n",
       "    div.green {\n",
       "      margin-top: 30px;\n",
       "      background-color: #adf08d;\n",
       "      border-color: #34c123;\n",
       "      border-left: 5px solid #34c123;\n",
       "      padding: 0.5em;\n",
       "    }\n",
       "\n",
       "</style>\n"
      ],
      "text/plain": [
       "<IPython.core.display.HTML object>"
      ]
     },
     "execution_count": 1,
     "metadata": {},
     "output_type": "execute_result"
    }
   ],
   "source": [
    "# On importe les librairies nécessaire au TD  \n",
    "import networkx as nx\n",
    "import numpy as np\n",
    "import scipy as sp\n",
    "from numpy import linalg as LA\n",
    "import pandas as pd\n",
    "import csv\n",
    "import matplotlib.pylab as plt\n",
    "\n",
    "%matplotlib nbagg\n",
    "\n",
    "# Style pour le Notebook\n",
    "from IPython.core.display import HTML\n",
    "\n",
    "def css_styling():\n",
    "    styles = open(\"./Styles/custom.css\", \"r\").read()\n",
    "    return HTML(styles)\n",
    "css_styling()"
   ]
  },
  {
   "cell_type": "markdown",
   "metadata": {},
   "source": [
    "# Générer un graphe du web synthétique\n",
    "\n",
    "A l'aide de Networkx, générer le graphe orienté $\\mathcal{G}(\\mathcal{V}, \\mathcal{E})$ (cf. **Fig 2**), et dessiner le graphe à l'aide de matplotlib afin de valider visuellement s'il correspond bien à celui de la ** figure 2**.\n",
    "\n",
    "**Aide**: on utilisera les methodes definie dans networkx pour ajouter des noeuds et des arc au graphe ([tutoriel networkx](https://networkx.github.io/documentation/networkx-1.10/tutorial/tutorial.html#nodes))"
   ]
  },
  {
   "cell_type": "code",
   "execution_count": 2,
   "metadata": {},
   "outputs": [
    {
     "data": {
      "text/plain": [
       "(-0.9889838457841954,\n",
       " 1.1889984649840186,\n",
       " -0.4992981394950826,\n",
       " 0.5892146995363545)"
      ]
     },
     "execution_count": 2,
     "metadata": {},
     "output_type": "execute_result"
    },
    {
     "data": {
      "image/png": "[encoded data removed]",
      "text/plain": [
       "<Figure size 432x288 with 1 Axes>"
      ]
     },
     "metadata": {
      "needs_background": "light"
     },
     "output_type": "display_data"
    }
   ],
   "source": [
    "plt.figure()\n",
    "N = 6\n",
    "g = nx.DiGraph()\n",
    "\n",
    "################## \n",
    "g.add_nodes_from([1, 2, 3, 4, 5, 6])\n",
    "g.add_edge(1, 2)\n",
    "g.add_edge(1, 3)\n",
    "g.add_edge(3, 2) \n",
    "g.add_edge(3, 1) \n",
    "g.add_edge(3, 5) \n",
    "g.add_edge(4, 5)\n",
    "g.add_edge(4, 6)\n",
    "g.add_edge(5, 4) \n",
    "g.add_edge(5, 6)\n",
    "g.add_edge(6, 4)\n",
    "##################\n",
    "\n",
    "pos = nx.spring_layout(g);\n",
    "nx.draw_networkx(g, pos=pos, node_size=700, font_size=20.0);\n",
    "#########################\n",
    "plt.axis('off')"
   ]
  },
  {
   "cell_type": "markdown",
   "metadata": {},
   "source": [
    "# Extraire la matrice d'adjacence du graphe\n",
    "\n",
    "Avant d'aller plus avant dans l'exercice allons extraire la matrice d'adjacence $\\mathbf{A}_{n\\times n}$ du graphe dirigé $\\mathcal{G}(\\mathcal{V}, \\mathcal{E})$  afin de construire la matrice normalisés d'adjacence du graphe $\\mathbf{H}_{n\\times n}$.\n",
    "\n",
    "(eq. **1**)\n",
    "$$\n",
    "\\mathbf{H}_{ij} = \\begin{cases}\n",
    "    1/\\sum_{j} \\mathbf{A}_{ij} & \\text{ si il y a une lien entre le noeud } i \\text{ et } j\\\\\n",
    "    0 & \\text{ sinon}\n",
    "\\end{cases}\n",
    "$$\n",
    "\n",
    "**Exemple**: La matrice $\\mathbf{H}_{n \\times n}$ correspondant au graphe defini dans la figure 1.\n",
    "\n",
    "\n",
    "$$\n",
    "\\mathbf{H} = \\begin{pmatrix}\n",
    "  0 & 1/2 & 1/2 & 0 & 0 & 0 \\\\\n",
    "  0 & 0 & 0 & 0 & 0 & 0 \\\\\n",
    "  1/3 & 1/3 & 0 & 0 & 1/3 & 0 \\\\\n",
    "  0 & 0 & 0 & 0 & 1/2 & 1/2 \\\\\n",
    "  0 & 0 & 0 & 1/2 & 0 & 1/2 \\\\\n",
    "  0 & 0 & 0 & 1 & 0 & 0 \\\\\n",
    "\\end{pmatrix}\n",
    "$$\n",
    "\n",
    "**Example de recupération de la matrice d'ajacence avec networkx**\n",
    "```Python\n",
    ">>> import numpy as np\n",
    ">>> G = nx.Graph([(1,1)])\n",
    ">>> A = nx.to_numpy_matrix(G)\n",
    ">>> A\n",
    "matrix([[ 1.]])\n",
    "```"
   ]
  },
  {
   "cell_type": "code",
   "execution_count": 3,
   "metadata": {},
   "outputs": [],
   "source": [
    "def transform_to_stochatic(G):\n",
    "    ### \n",
    "\n",
    "    S = nx.to_numpy_matrix(G)\n",
    "   \n",
    "    for i in range(S.shape[0]) :\n",
    "        if np.sum(S[i,:]) != 0:\n",
    "            S[i,:] /= np.sum(S[i,:])\n",
    "    ###\n",
    "    return S "
   ]
  },
  {
   "cell_type": "code",
   "execution_count": 4,
   "metadata": {},
   "outputs": [
    {
     "name": "stdout",
     "output_type": "stream",
     "text": [
      "[[0.         0.5        0.5        0.         0.         0.        ]\n",
      " [0.         0.         0.         0.         0.         0.        ]\n",
      " [0.33333333 0.33333333 0.         0.         0.33333333 0.        ]\n",
      " [0.         0.         0.         0.         0.5        0.5       ]\n",
      " [0.         0.         0.         0.5        0.         0.5       ]\n",
      " [0.         0.         0.         1.         0.         0.        ]]\n"
     ]
    }
   ],
   "source": [
    "H = transform_to_stochatic(g)\n",
    "print(H)\n"
   ]
  },
  {
   "cell_type": "markdown",
   "metadata": {},
   "source": [
    "# Trouver le dangling vecteur \n",
    "\n",
    "On souhaite calculer le \"dangling vecteur\" $\\mathbf{a}$ qui associe à chaque noeud la valeur 1 si celui-ci ne possède aucun lien de sortie, et 0 sinon.  \n",
    "\n",
    "(eq. **2**)\n",
    "\n",
    "$$\n",
    "\\mathbf{a}_i = \\begin{cases}\n",
    "    1 & si \\sum_{j} \\mathbf{A}_{ij} = 0 \\\\\n",
    "    0              & \\text{ sinon}\n",
    "\\end{cases}\n",
    "$$\n",
    "\n",
    "**exemple**:\n",
    "<img src=\"./Images/DanglingPageRank.png\" width=\"500px\"></img>\n",
    "<div align=\"center\">**Figure 3**: Example de vecteur $\\mathbf{a}$ afin d'identifier les noeuds Dangling</div>"
   ]
  },
  {
   "cell_type": "code",
   "execution_count": 5,
   "metadata": {},
   "outputs": [],
   "source": [
    "def dangling_vector(H):\n",
    "    ### \n",
    "    a =np.zeros(H[0,:].size)\n",
    "    for i in range (0, H[:,0].size) :\n",
    "        if np.sum(H[i,:]) == 0 :\n",
    "            a[i]=1\n",
    "  \n",
    "    ###\n",
    "    return a"
   ]
  },
  {
   "cell_type": "code",
   "execution_count": 6,
   "metadata": {},
   "outputs": [
    {
     "name": "stdout",
     "output_type": "stream",
     "text": [
      "[0. 1. 0. 0. 0. 0.]\n"
     ]
    }
   ],
   "source": [
    "a = dangling_vector(H)\n",
    "print(a)"
   ]
  },
  {
   "cell_type": "markdown",
   "metadata": {},
   "source": [
    "# Construction de la \"Google\" Matrice \n",
    "\n",
    "Malheureusement le graphe du web ne forme pas un graphe connexe, irréductible et apériodique. En construisant la matrice \"Google\" on va ajouter à la matrice d'adjacence du graphe du web des transitions artificielles afin de transformer celle-ci en un autre graphe qui offre des propriétés satisfaisantes (irréductible et apériodique). Une fois la matrice $\\mathbf{G}_{n \\times n}$ construite, elle va permettre de calculer les états stationnaires $\\pi^T$ (le PageRank) de chacun des noeuds du graphe $\\mathcal{G}(\\mathcal{V}, \\mathcal{E})$. Le but de cet exercice est de transformer la matrice d'adjacence $\\mathbf{A}_{n \\times n}$ du graphe du web en une matrice $\\mathbf{G}_{n \\times n}$ ($\\mathbf{A} \\to \\mathbf{G}$) de telle sorte qu’elle satisfasse les conditions suivantes: \n",
    "\n",
    "1. Que la matrice $\\mathbf{G}$ soit stochatsique. \n",
    "2. Que la matrice $\\mathbf{G}$ soit irreductible, pour cela il faut qu'il existe un chemin entre tous les noeuds du graphe.\n",
    "3. Que la matrice $\\mathbf{G}$ soit apériodique, l'existence de boucle $\\mathbf{G}_{ii} > 0$ est une condition suffisante pour dire que le graphe est apériodique.\n",
    "4. Que la matrice $\\mathbf{G}$ soit primitive. Si la matrice $\\mathbf{G}$ est primitive alors il existe un vecteur $\\pi^{(k)T}$ tel que $\\mathbf{\\pi}^{(k)T} = \\mathbf{\\pi}^{(k)T} \\mathbf{G}$ (autrement dit il y a convergence du vecteur $\\pi^{(k)T}$ vers un état stationnaire unique quand $k \\to \\infty$) (cf. théorème de Perron-Frobenius) \n",
    "\n",
    "<div class=warn>\n",
    "**Definition 1**: Une matrice est dite primitive si elle admet une puissance dont tous les termes sont strictement positifs. c.a.d. qu'il existe $\\mathbf{G}^k > 0$\n",
    "</div>\n",
    "\n",
    "<div class=warn>\n",
    "**Théorème de Perron-Frobenius**: Soit une matrice $\\mathbf{A}$ positive et primitive. Alors il existe une valeur propore $\\lambda_{max}$ de telle sorte que: <br>\n",
    "\n",
    "1. $\\lambda_{max}$ est réel et strictment positive, $\\lambda_{max} > 0$ <br>\n",
    "2. à $\\lambda_{max}$ sont associés des vecteurs propres à gauche et à droite strictement positifs <br>\n",
    "3. $\\lambda_{max} > \\lvert \\lambda \\lvert\\ \\ \\forall \\lambda \\neq \\lambda_{max}$ <br>\n",
    "4. il existe un unique vecteur $\\mathbf{x}$ de norme 1 à coordonnées strictement positives tel que $\\mathbf{A}\\mathbf{x}=\\lambda_{max} \\mathbf{x}$\n",
    "</div>\n",
    "\n",
    "<div class=green>\n",
    "**Conclusion**: La matrice d'ajacence $\\mathbf{A}_{n \\times n}$ d'un graphe irréductible et apériodique est une matrice primitive. Alors d'après le thèoreme de Perron-Frobenius on peut en conclure que la matrice d'adjacence $\\mathbf{A}_{n \\times n}$ admet un unique vecteur $\\mathbf{x}$ de norme 1 à coordonnées strictement positives tel que $\\mathbf{A}\\mathbf{x}=\\lambda_{max} \\mathbf{x}$.\n",
    "</div>\n",
    "\n",
    "On pose :\n",
    "\n",
    "(eq. **3**)\n",
    "$$\n",
    "\\mathbf{S} = \\mathbf{H} + \\frac{1}{n} \\mathbf{a} \\otimes \\mathbf{e}^T \\\\\n",
    "$$\n",
    "\n",
    "Pour rappel, le vecteur $\\mathbf{a}_n$ (calculé à l'étape 3. de l'exercice) est le vecteur Dangling et $\\mathbf{H}_{n \\times n}$ est la matrice normalisée d'adjacence du graphe orienté $\\mathcal{G}(\\mathcal{V}, \\mathcal{E})$ (calculé à l'étape 2. de l'exercice). On definit la matrice alors la \"Google matrice\" comme étant: \n",
    "\n",
    "(eq. **4**)\n",
    "$$\n",
    "\\mathbf{G} = \\alpha  \\mathbf{S} + (1-\\alpha) \\frac{1}{n}\\mathbf{e} \\otimes \\mathbf{e}^T \\\\\n",
    "$$\n",
    "\n",
    "\n",
    "\n",
    "<img src=\"./Images/GoogleMatrice.png\" width=\"700px\"></img>\n",
    "<div align=\"center\">**Fig. 4**: Google matrice</div>\n",
    "\n",
    "La \"Google matrice\" $\\mathbf{G}_{n \\times n} $ (cf. eq. 4) est construite en ajoutant des transitions supplémentaires (cf. Fig. 3) à la matrice d'adjacence originale du graphe $\\mathcal{G}(\\mathcal{V}, \\mathcal{E})$ de telle sorte que les conditions 1 à 3 soient satisfaites."
   ]
  },
  {
   "cell_type": "markdown",
   "metadata": {},
   "source": [
    "**Question 1**: Développez l'équation 4 (à l'aide de l'équation 3) afin d'exprimer la matrice $\\mathbf{G}_{n \\times n}$ en fonction de $\\mathbf{H}_{n \\times n}$ et $\\mathbf{a}_n$\n",
    "\n",
    "\n",
    "**reponse**:\n",
    "$$\n",
    "\\mathbf{G} = \\alpha  \\mathbf{S} + (1-\\alpha) \\frac{1}{n}\\mathbf{e} \\otimes \\mathbf{e}^T \\\\\n",
    "\\mathbf{S} = \\mathbf{H} + \\frac{1}{n} \\mathbf{a} \\otimes \\mathbf{e}^T \\\\\n",
    "$$\n",
    "\n",
    "donc\n",
    "$$\n",
    "\\mathbf{G} = \\alpha(\\mathbf{H} + \\frac{1}{n} \\mathbf{a} \\otimes \\mathbf{e}^T )+ (1-\\alpha) \\frac{1}{n}\\mathbf{e} \\otimes \\mathbf{e}^T =  \\alpha \\mathbf{H} + \\alpha \\frac{1}{n} \\mathbf{a} \\otimes \\mathbf{e}^T + (1-\\alpha) \\frac{1}{n}\\mathbf{e} \\otimes \\mathbf{e}^T \\\\\n",
    "$$\n",
    "\n"
   ]
  },
  {
   "cell_type": "markdown",
   "metadata": {},
   "source": [
    "#### Implémenter la fonction qui construit la \"Google matrice\"  (reponse de la question 1)"
   ]
  },
  {
   "cell_type": "code",
   "execution_count": 7,
   "metadata": {},
   "outputs": [],
   "source": [
    "def google_matrix(H, a, alpha=0.9):\n",
    "    '''\n",
    "    H: matrix d'adjacence stochastique\n",
    "    a : Dangling vector\n",
    "    '''\n",
    "    ### \n",
    "    n=H[0,:].size\n",
    "    e_transp=np.ones((1,n))\n",
    "    G=alpha * H +alpha*(1/n)* np.outer(a.T,e_transp)+(1-alpha)*(1/n)* np.outer(e_transp.T,e_transp)\n",
    "    ###\n",
    "    return G"
   ]
  },
  {
   "cell_type": "code",
   "execution_count": 8,
   "metadata": {},
   "outputs": [
    {
     "name": "stdout",
     "output_type": "stream",
     "text": [
      "[[0.01666667 0.46666667 0.46666667 0.01666667 0.01666667 0.01666667]\n",
      " [0.16666667 0.16666667 0.16666667 0.16666667 0.16666667 0.16666667]\n",
      " [0.31666667 0.31666667 0.01666667 0.01666667 0.31666667 0.01666667]\n",
      " [0.01666667 0.01666667 0.01666667 0.01666667 0.46666667 0.46666667]\n",
      " [0.01666667 0.01666667 0.01666667 0.46666667 0.01666667 0.46666667]\n",
      " [0.01666667 0.01666667 0.01666667 0.91666667 0.01666667 0.01666667]]\n"
     ]
    }
   ],
   "source": [
    "G = google_matrix(H, a)\n",
    "print(G)"
   ]
  },
  {
   "cell_type": "markdown",
   "metadata": {},
   "source": [
    "#### Application numerique pour le graphe décrit dans la figure 2 ($\\alpha = 0.9$)\n",
    "\n",
    "(**eq. 4.**)\n",
    "$$\n",
    "\\mathbf{G} = 0.9\\mathbf{H} + \\left[ 0.9 \\begin{pmatrix} 0 \\\\ 1 \\\\ 0 \\\\ 0 \\\\ 0 \\\\ 0 \\\\ \\end{pmatrix} + 0.1  \\begin{pmatrix} 1 \\\\ 1 \\\\ 1 \\\\ 1 \\\\ 1 \\\\ 1 \\\\ \\end{pmatrix}  \\right]  \\otimes 1/6  \\begin{pmatrix} 1 & 1 & 1 & 1 & 1 & 1 \\end{pmatrix} \\\\\n",
    "$$\n",
    "\n",
    "$$\n",
    "\\mathbf{G} =  \\begin{pmatrix} \n",
    "1/60 & 7/15 & 7/15 & 1/60 & 1/60 & 1/60 \\\\\n",
    "1/6  & 1/6  & 1/6  & 1/6  & 1/6  & 1/6 \\\\\n",
    "19/60 & 19/60 & 1/60 & 1/60 & 19/60 & 1/60 \\\\\n",
    "1/60 & 1/60 & 1/60 & 1/60 & 7/15 & 7/15 \\\\\n",
    "1/60 & 1/60 & 1/60 & 7/15 & 1/60 & 7/15 \\\\\n",
    "1/60 & 1/60 & 1/60 & 11/12 & 1/60 & 1/60 \\\\\n",
    "\\end{pmatrix}\n",
    "$$"
   ]
  },
  {
   "cell_type": "markdown",
   "metadata": {},
   "source": [
    "# Calculer la valeur du vecteur PageRank\n",
    "\n",
    "(**eq. 5**)\n",
    "\\begin{eqnarray}\n",
    "& \\mathbf{\\pi}^{(k)T} & =   \\mathbf{\\pi}^{(k-1)T} \\mathbf{G} \\\\ \n",
    "& \\mathbf{\\pi}^{(k-1)T} & = \\mathbf{\\pi}^{(k-2)T} \\mathbf{G} \\\\ \n",
    "& \\vdots &\\\\\n",
    "& \\mathbf{\\pi}^{(1)T} & = \\mathbf{\\pi}^{(0)T} \\mathbf{G} \n",
    "\\end{eqnarray}\n",
    "\n",
    "Par récurence on peut donc écrire \n",
    "\n",
    "(**eq. 6**)\n",
    "$$\\mathbf{\\pi}^{(k)T} = \\mathbf{\\pi}^{(0)T} \\mathbf{G}^k$$\n",
    "\n",
    "On cherche maintenant à calculer le vecteur stationnaire $\\mathbf{\\pi}^{(k)T}$ lorsque $k \\to \\infty$. On sait que la matrice $\\mathbf{G}$ est primitive par construction, alors la converge du vecteur $\\mathbf{\\pi}^{T}$(dans le cas d'un espace d'état fini) est prouvé par le théorème de Perron-Frobenius. Afin de calculer les états stationaires du vecteur $\\mathbf{\\pi}^{T}$ on va alors itérer l'opération $\\mathbf{\\pi}^{(k)T} = \\mathbf{\\pi}^{(k-1)T} \\mathbf{G}$ jusqu'a convergence du vecteur $\\mathbf{\\pi}^{T}$ (cf. Alg 1).\n",
    "\n",
    "<br>\n",
    "\n",
    "<img src=\"./Images/PowerIt.png\" width=\"600px\"></img>\n",
    "\n",
    "<br>\n",
    "<div align=\"center\">**Alg1** : Algorithme de calcul itératif du PageRank</div>"
   ]
  },
  {
   "cell_type": "code",
   "execution_count": 9,
   "metadata": {},
   "outputs": [],
   "source": [
    "def power_iter(G, max_iter=500, tol=1e-6):\n",
    "    \"\"\"power_iter\n",
    "\n",
    "    Parametres\n",
    "    -----------\n",
    "    G : Goole matrice\n",
    "\n",
    "    max_iter : integer, optional\n",
    "        Nombre maxium d'iteration permise \n",
    "\n",
    "    tol : float, optional\n",
    "       Error tolerance used to check convergence in power method solver.\n",
    "    \"\"\"\n",
    "    ### Code\n",
    "    n=G.shape[0]\n",
    "    x=np.ones(n)*(1/n)\n",
    "    x_old=np.zeros(n)\n",
    "    gap=[]\n",
    "    for i in range(max_iter) :\n",
    "        x_old=x\n",
    "        #print(x_old)\n",
    "        x = np.dot(x,G)\n",
    "        norm= np.linalg.norm((x-x_old).T)\n",
    "        #print(norm)\n",
    "        gap.append(norm)    \n",
    "        if tol > (n*norm):\n",
    "            return (np.array(x)[0], gap)\n",
    "        ###\n",
    "    raise RuntimeError('pagerank: power iteration failed to converge in %d iterations.' % max_iter) "
   ]
  },
  {
   "cell_type": "code",
   "execution_count": 10,
   "metadata": {},
   "outputs": [
    {
     "name": "stdout",
     "output_type": "stream",
     "text": [
      "[0.03721202 0.05395745 0.04150572 0.37508069 0.2059983  0.2862458 ]\n"
     ]
    }
   ],
   "source": [
    "(π, gap) = power_iter(G, max_iter=500, tol=1e-6)\n",
    "print(π)\n",
    "\n",
    "# solution approx\n",
    "# [ 0.03721313  0.05395937  0.04150701  0.37507848  0.20599777  0.28624425]"
   ]
  },
  {
   "cell_type": "code",
   "execution_count": 11,
   "metadata": {},
   "outputs": [
    {
     "name": "stdout",
     "output_type": "stream",
     "text": [
      "[0.03721202 0.05395745 0.04150572 0.37508069 0.2059983  0.2862458 ]\n"
     ]
    },
    {
     "data": {
      "image/png": "[encoded data removed]",
      "text/plain": [
       "<Figure size 504x288 with 1 Axes>"
      ]
     },
     "metadata": {
      "needs_background": "light"
     },
     "output_type": "display_data"
    }
   ],
   "source": [
    "λ, _ = LA.eig(G)\n",
    "λ_2 = np.sort(λ.real)[-2]\n",
    "λ_gap = [λ_2 ** i for i in range(1,25)]\n",
    "\n",
    "fig = plt.figure(figsize=(7,4))\n",
    "plt.semilogy(gap, 'ro')\n",
    "plt.semilogy(λ_gap, lw=2.0, label=\"$\\lambda_2^i$\")\n",
    "plt.title(\"Vitesse de convergence de l'algorithme du PageRank\")\n",
    "plt.xlabel(\"Nombre d'iterations de l'agorithme PageRank $(i)$\")\n",
    "plt.ylabel(\"iteration gap\")\n",
    "plt.legend()\n",
    "plt.tight_layout()\n",
    "print(π)"
   ]
  },
  {
   "cell_type": "markdown",
   "metadata": {},
   "source": [
    "# 5. Intégration des trois étapes qui constituent l'algorithme du PageRank\n",
    "\n",
    "Construire la fonction qui intégre les différentes étapes qui constitutent l'algorithme du PageRank. Vous allez utiliser les fonctions que vous avez définies précedemment pour construire l'algorithme final. \n",
    "\n",
    "**Algorithme du PageRank**\n",
    "1. Normalisation de la matrice d'ajacence du graphe du web\n",
    "2. Découverte des noeuds du graphe du web ne possédant pas de liens de sortie \"Dangling nodes\"(aucun lien hypertext)\n",
    "3. Creation de la \"Google\" Matrice \n",
    "4. Calcul de la vecteur des états stationnaires de la chaine de Markov $\\mathbf{G}$ \n"
   ]
  },
  {
   "cell_type": "code",
   "execution_count": 12,
   "metadata": {},
   "outputs": [],
   "source": [
    "def pagerank(Graph, α=0.85, max_iter=100, tol=1e-6):\n",
    "    \"\"\"Return the PageRank of the nodes in the graph.\n",
    "\n",
    "    PageRank computes a ranking of the nodes in the graph G based on\n",
    "    the structure of the incoming links. It was originally designed as\n",
    "    an algorithm to rank web pages.\n",
    "\n",
    "    Parametres\n",
    "    -----------\n",
    "    G : graph\n",
    "      A NetworkX graph.  Undirected graphs will be converted to a directed\n",
    "      graph with two directed edges for each undirected edge.\n",
    "\n",
    "    alpha : float, optional\n",
    "      Damping parameter for PageRank, default=0.85.\n",
    "\n",
    "    max_iter : integer, optional\n",
    "      Maximum number of iterations in power method.\n",
    "\n",
    "    tol : float, optional\n",
    "      Error tolerance used to check convergence in power method solver.\n",
    "      \n",
    "    Return\n",
    "    PR : dict\n",
    "      retourne un dictionnaire avec comme clé le nodeid, et comme valeur le pagerank du noeud \n",
    "    \"\"\"\n",
    "    ### \n",
    "    # Normalisation de la matrice d'ajacence du graphe du web\n",
    "    H = transform_to_stochatic(Graph)\n",
    "    #Découverte des noeuds du graphe du web ne possédant pas de liens de sortie \"Dangling nodes\"\n",
    "    a = dangling_vector(H)\n",
    "    #Création de la google matrice\n",
    "    G = google_matrix(H, a)\n",
    "    #print(a.shape, H.shape, G.shape)\n",
    "    #Calcul du vecteur des états stationnaires de la chaine de Markov  G\n",
    "    (π, gap) = power_iter(G, max_iter=max_iter, tol=1e-6)\n",
    "    PR= {}\n",
    "    for i in range(len(π)) :\n",
    "        PR[i+1]= π[i]\n",
    "    ###\n",
    "    return PR"
   ]
  },
  {
   "cell_type": "code",
   "execution_count": 16,
   "metadata": {},
   "outputs": [
    {
     "name": "stdout",
     "output_type": "stream",
     "text": [
      "{1: 0.03721202499955824, 2: 0.053957453482862655, 3: 0.041505723154045826, 4: 0.3750806947101662, 5: 0.20599830296851449, 6: 0.2862458006848527}\n"
     ]
    }
   ],
   "source": [
    "PR = pagerank(g,0.9,max_iter=500)\n",
    "print(PR)\n",
    "\n",
    "# Resultat:\n",
    "# 1: 0.03721313  \n",
    "# 2: 0.05395937  \n",
    "# 3: 0.04150701  \n",
    "# 4: 0.37507848  \n",
    "# 5: 0.20599777  \n",
    "# 6: 0.28624425"
   ]
  },
  {
   "cell_type": "markdown",
   "metadata": {},
   "source": [
    "# Application de l'algorithme du PageRank pour le classement des pages web\n",
    "\n",
    "## Exemple avec le graphe des liens du site Wikipedia"
   ]
  },
  {
   "cell_type": "code",
   "execution_count": 17,
   "metadata": {},
   "outputs": [
    {
     "data": {
      "text/html": [
       "<div>\n",
       "<style scoped>\n",
       "    .dataframe tbody tr th:only-of-type {\n",
       "        vertical-align: middle;\n",
       "    }\n",
       "\n",
       "    .dataframe tbody tr th {\n",
       "        vertical-align: top;\n",
       "    }\n",
       "\n",
       "    .dataframe thead th {\n",
       "        text-align: right;\n",
       "    }\n",
       "</style>\n",
       "<table border=\"1\" class=\"dataframe\">\n",
       "  <thead>\n",
       "    <tr style=\"text-align: right;\">\n",
       "      <th></th>\n",
       "      <th>Page Title</th>\n",
       "      <th>Page Title Encoded</th>\n",
       "      <th>Keywords</th>\n",
       "    </tr>\n",
       "    <tr>\n",
       "      <th>PageID</th>\n",
       "      <th></th>\n",
       "      <th></th>\n",
       "      <th></th>\n",
       "    </tr>\n",
       "  </thead>\n",
       "  <tbody>\n",
       "    <tr>\n",
       "      <th>1</th>\n",
       "      <td>Áedán_mac_Gabráin</td>\n",
       "      <td>%C3%81ed%C3%A1n_mac_Gabr%C3%A1in</td>\n",
       "      <td>áedán, son, dál, battle, adomnán, king, mac, r...</td>\n",
       "    </tr>\n",
       "    <tr>\n",
       "      <th>2</th>\n",
       "      <td>Åland</td>\n",
       "      <td>%C3%85land</td>\n",
       "      <td>åland, islands, finland, finnish, swedish, n, ...</td>\n",
       "    </tr>\n",
       "    <tr>\n",
       "      <th>3</th>\n",
       "      <td>Édouard_Manet</td>\n",
       "      <td>%C3%89douard_Manet</td>\n",
       "      <td>manet, paris, painting, one, salon, paintings,...</td>\n",
       "    </tr>\n",
       "    <tr>\n",
       "      <th>4</th>\n",
       "      <td>Éire</td>\n",
       "      <td>%C3%89ire</td>\n",
       "      <td>ireland, irish, republic, state, éire, valera,...</td>\n",
       "    </tr>\n",
       "    <tr>\n",
       "      <th>5</th>\n",
       "      <td>Óengus_I_of_the_Picts</td>\n",
       "      <td>%C3%93engus_I_of_the_Picts</td>\n",
       "      <td>óengus, king, dál, riata, son, mac, nechtan, a...</td>\n",
       "    </tr>\n",
       "  </tbody>\n",
       "</table>\n",
       "</div>"
      ],
      "text/plain": [
       "                   Page Title                Page Title Encoded  \\\n",
       "PageID                                                            \n",
       "1           Áedán_mac_Gabráin  %C3%81ed%C3%A1n_mac_Gabr%C3%A1in   \n",
       "2                       Åland                        %C3%85land   \n",
       "3               Édouard_Manet                %C3%89douard_Manet   \n",
       "4                        Éire                         %C3%89ire   \n",
       "5       Óengus_I_of_the_Picts        %C3%93engus_I_of_the_Picts   \n",
       "\n",
       "                                                 Keywords  \n",
       "PageID                                                     \n",
       "1       áedán, son, dál, battle, adomnán, king, mac, r...  \n",
       "2       åland, islands, finland, finnish, swedish, n, ...  \n",
       "3       manet, paris, painting, one, salon, paintings,...  \n",
       "4       ireland, irish, republic, state, éire, valera,...  \n",
       "5       óengus, king, dál, riata, son, mac, nechtan, a...  "
      ]
     },
     "execution_count": 17,
     "metadata": {},
     "output_type": "execute_result"
    }
   ],
   "source": [
    "# On charge le graphe des liens des page wikipedia dans un graphe (networkx)\n",
    "Gwikipedia = nx.read_graphml(\"./Data/Wikipedia/wikipedia.graphml\")\n",
    "\n",
    "#On charge la base de données des pages dans un tableau Pandas\n",
    "wikipedia_db = pd.read_pickle(\"./Data/Wikipedia/wikipedia.db\")\n",
    "#Par défaut ça affiche les 5 premières\n",
    "wikipedia_db.head()"
   ]
  },
  {
   "cell_type": "markdown",
   "metadata": {},
   "source": [
    "## Calcule des propriété statistique du graphe les liens des pages wikipedia \n",
    "\n",
    "Nous allons calculer:\n",
    "1. la densité du graphe (rappel la densité d'un graphe $\\mathcal{G}(\\mathcal{V}, \\mathcal{E})$ est $D =\\vert \\mathcal{E}\\vert/N(N-1)$) \n",
    "2. la densité de probabilité empirique du degré des noeuds du graphe \n",
    "3. le complémentaire de la fonction de répartition empirique du degré des noeuds du graphe"
   ]
  },
  {
   "cell_type": "code",
   "execution_count": 18,
   "metadata": {},
   "outputs": [
    {
     "name": "stdout",
     "output_type": "stream",
     "text": [
      "0.0056568894271159615\n"
     ]
    }
   ],
   "source": [
    "# \n",
    "# Calcul de la densité de graphe\n",
    "E= len(Gwikipedia.edges())\n",
    "N = Gwikipedia.number_of_nodes()\n",
    "D= E/(N*(N-1))\n",
    "print(D)\n",
    "# "
   ]
  },
  {
   "cell_type": "code",
   "execution_count": 19,
   "metadata": {},
   "outputs": [
    {
     "name": "stderr",
     "output_type": "stream",
     "text": [
      "C:\\Users\\WSI\\Anaconda3\\lib\\site-packages\\matplotlib\\axes\\_base.py:3157: UserWarning: Attempted to set non-positive xlimits for log-scale axis; invalid limits will be ignored.\n",
      "  'Attempted to set non-positive xlimits for log-scale axis; '\n"
     ]
    },
    {
     "data": {
      "image/png": "[encoded data removed]",
      "text/plain": [
       "<Figure size 432x288 with 2 Axes>"
      ]
     },
     "metadata": {
      "needs_background": "light"
     },
     "output_type": "display_data"
    }
   ],
   "source": [
    "#\n",
    "# On calcule la distribution des degree du graphe des pages wikipedia\n",
    "#\n",
    "degree = [v for k,v in Gwikipedia.degree()]\n",
    "distribution = [(elem, degree.count(elem)) for elem in sorted(set(degree))]\n",
    "k,pk = zip(*distribution)\n",
    "PDF = np.array(pk)/sum(pk)\n",
    "CCDF = 1-np.cumsum(PDF)\n",
    "\n",
    "\n",
    "#\n",
    "# Afichage \n",
    "#\n",
    "fig, (ax1, ax2) = plt.subplots(1, 2)\n",
    "ax1.loglog(k, PDF, 'ro')\n",
    "ax1.set_xlabel(\"$k$ Degree\")\n",
    "ax1.set_ylabel(\"$P_k$\")\n",
    "ax1.set_title(\"PDF\")\n",
    "\n",
    "ax2.loglog(k, CCDF, 'ro')\n",
    "ax2.set_ylim(1e-4,1.1)\n",
    "ax2.set_xlim(0,2e3)\n",
    "ax2.set_xlabel(\"$k$ Degree\")\n",
    "ax2.set_ylabel(\"$1-P[K > k]$\")\n",
    "ax2.set_title(\"CCDF\")\n",
    "fig.tight_layout()"
   ]
  },
  {
   "cell_type": "markdown",
   "metadata": {},
   "source": [
    "** Question:**\n",
    "\n",
    "- La matrice d'adjacence du graphe est-elle dense ? ou au contraire creuse ?\n",
    "- Que dire de la distribution du degrée des articles wikipedia ?"
   ]
  },
  {
   "cell_type": "markdown",
   "metadata": {},
   "source": [
    "## Calculer le PageRank du graphe des articles  Wikipedia"
   ]
  },
  {
   "cell_type": "code",
   "execution_count": 20,
   "metadata": {},
   "outputs": [
    {
     "data": {
      "text/html": [
       "<div>\n",
       "<style scoped>\n",
       "    .dataframe tbody tr th:only-of-type {\n",
       "        vertical-align: middle;\n",
       "    }\n",
       "\n",
       "    .dataframe tbody tr th {\n",
       "        vertical-align: top;\n",
       "    }\n",
       "\n",
       "    .dataframe thead th {\n",
       "        text-align: right;\n",
       "    }\n",
       "</style>\n",
       "<table border=\"1\" class=\"dataframe\">\n",
       "  <thead>\n",
       "    <tr style=\"text-align: right;\">\n",
       "      <th></th>\n",
       "      <th>PageRank</th>\n",
       "    </tr>\n",
       "    <tr>\n",
       "      <th>PageID</th>\n",
       "      <th></th>\n",
       "    </tr>\n",
       "  </thead>\n",
       "  <tbody>\n",
       "    <tr>\n",
       "      <th>1</th>\n",
       "      <td>0.000022</td>\n",
       "    </tr>\n",
       "    <tr>\n",
       "      <th>2</th>\n",
       "      <td>0.000022</td>\n",
       "    </tr>\n",
       "    <tr>\n",
       "      <th>3</th>\n",
       "      <td>0.000022</td>\n",
       "    </tr>\n",
       "    <tr>\n",
       "      <th>4</th>\n",
       "      <td>0.000022</td>\n",
       "    </tr>\n",
       "    <tr>\n",
       "      <th>5</th>\n",
       "      <td>0.000022</td>\n",
       "    </tr>\n",
       "    <tr>\n",
       "      <th>6</th>\n",
       "      <td>0.000022</td>\n",
       "    </tr>\n",
       "    <tr>\n",
       "      <th>7</th>\n",
       "      <td>0.000684</td>\n",
       "    </tr>\n",
       "    <tr>\n",
       "      <th>8</th>\n",
       "      <td>0.000595</td>\n",
       "    </tr>\n",
       "    <tr>\n",
       "      <th>9</th>\n",
       "      <td>0.000769</td>\n",
       "    </tr>\n",
       "    <tr>\n",
       "      <th>10</th>\n",
       "      <td>0.000810</td>\n",
       "    </tr>\n",
       "  </tbody>\n",
       "</table>\n",
       "</div>"
      ],
      "text/plain": [
       "        PageRank\n",
       "PageID          \n",
       "1       0.000022\n",
       "2       0.000022\n",
       "3       0.000022\n",
       "4       0.000022\n",
       "5       0.000022\n",
       "6       0.000022\n",
       "7       0.000684\n",
       "8       0.000595\n",
       "9       0.000769\n",
       "10      0.000810"
      ]
     },
     "execution_count": 20,
     "metadata": {},
     "output_type": "execute_result"
    }
   ],
   "source": [
    "# Calcul du PageRank en utilisant la fonction PageRank déja implementé\n",
    "\n",
    "#### \n",
    "PR=pagerank(Gwikipedia,0.85,max_iter=500)\n",
    "####\n",
    "PR = [[k,v] for k,v in PR.items()]\n",
    "PR = pd.DataFrame(PR, columns=['PageID', 'PageRank'])\n",
    "PR = PR.set_index('PageID')\n",
    "\n",
    "#Par défaut, PR.head() affiche les 5 premiers résultats\n",
    "PR.head(10)"
   ]
  },
  {
   "cell_type": "code",
   "execution_count": 21,
   "metadata": {},
   "outputs": [
    {
     "data": {
      "text/plain": [
       "4604"
      ]
     },
     "execution_count": 21,
     "metadata": {},
     "output_type": "execute_result"
    }
   ],
   "source": [
    "len(Gwikipedia.nodes())"
   ]
  },
  {
   "cell_type": "code",
   "execution_count": 22,
   "metadata": {},
   "outputs": [
    {
     "data": {
      "text/html": [
       "<div>\n",
       "<style scoped>\n",
       "    .dataframe tbody tr th:only-of-type {\n",
       "        vertical-align: middle;\n",
       "    }\n",
       "\n",
       "    .dataframe tbody tr th {\n",
       "        vertical-align: top;\n",
       "    }\n",
       "\n",
       "    .dataframe thead th {\n",
       "        text-align: right;\n",
       "    }\n",
       "</style>\n",
       "<table border=\"1\" class=\"dataframe\">\n",
       "  <thead>\n",
       "    <tr style=\"text-align: right;\">\n",
       "      <th></th>\n",
       "      <th>Page Title</th>\n",
       "      <th>PageRank</th>\n",
       "    </tr>\n",
       "    <tr>\n",
       "      <th>PageID</th>\n",
       "      <th></th>\n",
       "      <th></th>\n",
       "    </tr>\n",
       "  </thead>\n",
       "  <tbody>\n",
       "    <tr>\n",
       "      <th>4298</th>\n",
       "      <td>United_States</td>\n",
       "      <td>0.009774</td>\n",
       "    </tr>\n",
       "    <tr>\n",
       "      <th>1569</th>\n",
       "      <td>France</td>\n",
       "      <td>0.006847</td>\n",
       "    </tr>\n",
       "    <tr>\n",
       "      <th>1434</th>\n",
       "      <td>Europe</td>\n",
       "      <td>0.006698</td>\n",
       "    </tr>\n",
       "    <tr>\n",
       "      <th>4294</th>\n",
       "      <td>United_Kingdom</td>\n",
       "      <td>0.006530</td>\n",
       "    </tr>\n",
       "    <tr>\n",
       "      <th>1390</th>\n",
       "      <td>English_language</td>\n",
       "      <td>0.005167</td>\n",
       "    </tr>\n",
       "  </tbody>\n",
       "</table>\n",
       "</div>"
      ],
      "text/plain": [
       "              Page Title  PageRank\n",
       "PageID                            \n",
       "4298       United_States  0.009774\n",
       "1569              France  0.006847\n",
       "1434              Europe  0.006698\n",
       "4294      United_Kingdom  0.006530\n",
       "1390    English_language  0.005167"
      ]
     },
     "execution_count": 22,
     "metadata": {},
     "output_type": "execute_result"
    }
   ],
   "source": [
    "# On associe un PageRank à chaque page wikipedia dans la base de données \n",
    "wikipedia_db = wikipedia_db.join(PR)\n",
    "# On trie les entrées wikipedia par ordre croissant de leur PageRank\n",
    "wikipedia_db = wikipedia_db.sort_values(['PageRank'], ascending=0)\n",
    "# on affiche les premières entrées triées par ordre croissant \n",
    "wikipedia_db[[\"Page Title\", \"PageRank\"]].head()"
   ]
  },
  {
   "cell_type": "markdown",
   "metadata": {},
   "source": [
    "## Effectuer une recherche par mots clés sur la base de données des articles Wikipedia\n",
    "\n",
    "**Attention**: le nombre de pages wikipedia indexées dans cette base de données est de l'ordre de 5000 articles seulement, rédigé en anglais. Le nombre d'articles et donc de mots clées sont donc restreints. Effectuer les requêtes avec des mots clés ecrit en lettres minuscules uniquements."
   ]
  },
  {
   "cell_type": "code",
   "execution_count": 23,
   "metadata": {},
   "outputs": [
    {
     "data": {
      "text/html": [
       "<div>\n",
       "<style scoped>\n",
       "    .dataframe tbody tr th:only-of-type {\n",
       "        vertical-align: middle;\n",
       "    }\n",
       "\n",
       "    .dataframe tbody tr th {\n",
       "        vertical-align: top;\n",
       "    }\n",
       "\n",
       "    .dataframe thead th {\n",
       "        text-align: right;\n",
       "    }\n",
       "</style>\n",
       "<table border=\"1\" class=\"dataframe\">\n",
       "  <thead>\n",
       "    <tr style=\"text-align: right;\">\n",
       "      <th></th>\n",
       "      <th>Page Title</th>\n",
       "      <th>Page Title Encoded</th>\n",
       "      <th>Keywords</th>\n",
       "      <th>PageRank</th>\n",
       "    </tr>\n",
       "    <tr>\n",
       "      <th>PageID</th>\n",
       "      <th></th>\n",
       "      <th></th>\n",
       "      <th></th>\n",
       "      <th></th>\n",
       "    </tr>\n",
       "  </thead>\n",
       "  <tbody>\n",
       "    <tr>\n",
       "      <th>4197</th>\n",
       "      <td>Treaty_of_Versailles</td>\n",
       "      <td>Treaty_of_Versailles</td>\n",
       "      <td>germany, treaty, france, war, german, reparati...</td>\n",
       "      <td>0.000416</td>\n",
       "    </tr>\n",
       "    <tr>\n",
       "      <th>151</th>\n",
       "      <td>Airbus</td>\n",
       "      <td>Airbus</td>\n",
       "      <td>airbus, aircraft, boeing, eads, bae, engine, f...</td>\n",
       "      <td>0.000204</td>\n",
       "    </tr>\n",
       "    <tr>\n",
       "      <th>3114</th>\n",
       "      <td>Otto_von_Bismarck</td>\n",
       "      <td>Otto_von_Bismarck</td>\n",
       "      <td>bismarck, wilhelm, german, prussia, germany, v...</td>\n",
       "      <td>0.000084</td>\n",
       "    </tr>\n",
       "    <tr>\n",
       "      <th>1481</th>\n",
       "      <td>Fed_Cup</td>\n",
       "      <td>Fed_Cup</td>\n",
       "      <td>united, states, australia, spain, germany, fra...</td>\n",
       "      <td>0.000030</td>\n",
       "    </tr>\n",
       "  </tbody>\n",
       "</table>\n",
       "</div>"
      ],
      "text/plain": [
       "                  Page Title    Page Title Encoded  \\\n",
       "PageID                                               \n",
       "4197    Treaty_of_Versailles  Treaty_of_Versailles   \n",
       "151                   Airbus                Airbus   \n",
       "3114       Otto_von_Bismarck     Otto_von_Bismarck   \n",
       "1481                 Fed_Cup               Fed_Cup   \n",
       "\n",
       "                                                 Keywords  PageRank  \n",
       "PageID                                                               \n",
       "4197    germany, treaty, france, war, german, reparati...  0.000416  \n",
       "151     airbus, aircraft, boeing, eads, bae, engine, f...  0.000204  \n",
       "3114    bismarck, wilhelm, german, prussia, germany, v...  0.000084  \n",
       "1481    united, states, australia, spain, germany, fra...  0.000030  "
      ]
     },
     "execution_count": 23,
     "metadata": {},
     "output_type": "execute_result"
    }
   ],
   "source": [
    "# Exemple de mots cléss \n",
    "mot_clee_1 = \"france\"\n",
    "mot_clee_2 = \"germany\"\n",
    "# Requete sur la base de données par mots clés\n",
    "wikipedia_db[(wikipedia_db['Keywords'].str.contains(mot_clee_1)==True) & (wikipedia_db['Keywords'].str.contains(mot_clee_2)==True)].head(10)"
   ]
  },
  {
   "cell_type": "code",
   "execution_count": 24,
   "metadata": {},
   "outputs": [
    {
     "data": {
      "text/html": [
       "<div>\n",
       "<style scoped>\n",
       "    .dataframe tbody tr th:only-of-type {\n",
       "        vertical-align: middle;\n",
       "    }\n",
       "\n",
       "    .dataframe tbody tr th {\n",
       "        vertical-align: top;\n",
       "    }\n",
       "\n",
       "    .dataframe thead th {\n",
       "        text-align: right;\n",
       "    }\n",
       "</style>\n",
       "<table border=\"1\" class=\"dataframe\">\n",
       "  <thead>\n",
       "    <tr style=\"text-align: right;\">\n",
       "      <th></th>\n",
       "      <th>Page Title</th>\n",
       "      <th>Page Title Encoded</th>\n",
       "      <th>Keywords</th>\n",
       "      <th>PageRank</th>\n",
       "    </tr>\n",
       "    <tr>\n",
       "      <th>PageID</th>\n",
       "      <th></th>\n",
       "      <th></th>\n",
       "      <th></th>\n",
       "      <th></th>\n",
       "    </tr>\n",
       "  </thead>\n",
       "  <tbody>\n",
       "    <tr>\n",
       "      <th>1569</th>\n",
       "      <td>France</td>\n",
       "      <td>France</td>\n",
       "      <td>france, french, population, republic, also, eu...</td>\n",
       "      <td>0.006847</td>\n",
       "    </tr>\n",
       "    <tr>\n",
       "      <th>3160</th>\n",
       "      <td>Paris</td>\n",
       "      <td>Paris</td>\n",
       "      <td>paris, city, de, france, century, many, area, ...</td>\n",
       "      <td>0.002348</td>\n",
       "    </tr>\n",
       "    <tr>\n",
       "      <th>2918</th>\n",
       "      <td>Napoleon_I_of_France</td>\n",
       "      <td>Napoleon_I_of_France</td>\n",
       "      <td>napoleon, french, bonaparte, france, army, alt...</td>\n",
       "      <td>0.001056</td>\n",
       "    </tr>\n",
       "    <tr>\n",
       "      <th>18</th>\n",
       "      <td>17th_century</td>\n",
       "      <td>17th_century</td>\n",
       "      <td>bc, england, english, dutch, france, french, c...</td>\n",
       "      <td>0.001055</td>\n",
       "    </tr>\n",
       "    <tr>\n",
       "      <th>1596</th>\n",
       "      <td>French_Revolution</td>\n",
       "      <td>French_Revolution</td>\n",
       "      <td>assembly, king, france, new, french, louis, co...</td>\n",
       "      <td>0.000917</td>\n",
       "    </tr>\n",
       "    <tr>\n",
       "      <th>188</th>\n",
       "      <td>Algeria</td>\n",
       "      <td>Algeria</td>\n",
       "      <td>algeria, french, algerian, government, years, ...</td>\n",
       "      <td>0.000875</td>\n",
       "    </tr>\n",
       "    <tr>\n",
       "      <th>4253</th>\n",
       "      <td>Tunisia</td>\n",
       "      <td>Tunisia</td>\n",
       "      <td>tunisia, century, tunisian, government, french...</td>\n",
       "      <td>0.000793</td>\n",
       "    </tr>\n",
       "    <tr>\n",
       "      <th>9</th>\n",
       "      <td>12th_century</td>\n",
       "      <td>12th_century</td>\n",
       "      <td>bc, century, first, king, millennium, england,...</td>\n",
       "      <td>0.000769</td>\n",
       "    </tr>\n",
       "    <tr>\n",
       "      <th>4540</th>\n",
       "      <td>World_Heritage_Site</td>\n",
       "      <td>World_Heritage_Site</td>\n",
       "      <td>site, december, flag, world, heritage, france,...</td>\n",
       "      <td>0.000698</td>\n",
       "    </tr>\n",
       "    <tr>\n",
       "      <th>1388</th>\n",
       "      <td>English_Channel</td>\n",
       "      <td>English_Channel</td>\n",
       "      <td>channel, first, dover, english, swimming, cros...</td>\n",
       "      <td>0.000554</td>\n",
       "    </tr>\n",
       "  </tbody>\n",
       "</table>\n",
       "</div>"
      ],
      "text/plain": [
       "                  Page Title    Page Title Encoded  \\\n",
       "PageID                                               \n",
       "1569                  France                France   \n",
       "3160                   Paris                 Paris   \n",
       "2918    Napoleon_I_of_France  Napoleon_I_of_France   \n",
       "18              17th_century          17th_century   \n",
       "1596       French_Revolution     French_Revolution   \n",
       "188                  Algeria               Algeria   \n",
       "4253                 Tunisia               Tunisia   \n",
       "9               12th_century          12th_century   \n",
       "4540     World_Heritage_Site   World_Heritage_Site   \n",
       "1388         English_Channel       English_Channel   \n",
       "\n",
       "                                                 Keywords  PageRank  \n",
       "PageID                                                               \n",
       "1569    france, french, population, republic, also, eu...  0.006847  \n",
       "3160    paris, city, de, france, century, many, area, ...  0.002348  \n",
       "2918    napoleon, french, bonaparte, france, army, alt...  0.001056  \n",
       "18      bc, england, english, dutch, france, french, c...  0.001055  \n",
       "1596    assembly, king, france, new, french, louis, co...  0.000917  \n",
       "188     algeria, french, algerian, government, years, ...  0.000875  \n",
       "4253    tunisia, century, tunisian, government, french...  0.000793  \n",
       "9       bc, century, first, king, millennium, england,...  0.000769  \n",
       "4540    site, december, flag, world, heritage, france,...  0.000698  \n",
       "1388    channel, first, dover, english, swimming, cros...  0.000554  "
      ]
     },
     "execution_count": 24,
     "metadata": {},
     "output_type": "execute_result"
    }
   ],
   "source": [
    "# Exemple de mots clées \n",
    "mot_clee_1 = \"france\"\n",
    "# Requete sur la base de données par mots clée\n",
    "wikipedia_db[(wikipedia_db['Keywords'].str.contains(mot_clee_1)==True) ].head(10)"
   ]
  },
  {
   "cell_type": "markdown",
   "metadata": {},
   "source": [
    "**Question**:\n",
    "\n",
    "Effectuez conjointement: une requête sur la base de donnée et avec le moteurs de recherche de google: \n",
    "\n",
    "* Faite une Requete google \"site:wikipedia.org mot_clée1 mot_clée2\"\n",
    "* Comparer qualitativement les requetes faite sur Google et celles effectués sur la base de données"
   ]
  },
  {
   "cell_type": "markdown",
   "metadata": {},
   "source": [
    "# Implémentation du PageRank avec un algorithme distribué\n",
    "\n",
    "\n",
    "Le classement des page web au travers de l'algorithme du \"PageRank\" est encore aujourd'hui considéré comme étant le plus gros problème matriciel connu a ce jour. Pour vous donner un ordre de grandeur, en 2007 la \"power iteration\" qui permetait le calcul du PageRank chez Google occupait un datacenter pendant 15 jours pour finaliser le calcul. Afin de reduire la complexité du calcul $\\pi^T \\mathbf{G}$ on souhaiterait effectuer un calcul sur une matrice creuse à la place de la matrice $\\mathbf{G}$ qui est dense. Dans le même temps, on souhaite pouvoir paralléliser le calcul (multiprocesseur, cluster de calcul). Une manière élégante d'obtenir ces deux propriétés est d'éffectuer l'opération suivante sur tout les noeuds du graphe (Cf. eq. 7., Fig. 5, Algo. 3):\n",
    "<br>\n",
    "(**eq. 7**)\n",
    "$$ PR_{i} = \\frac{(1-\\alpha)}{n} + \\alpha \\sum_{j \\in \\mathcal{N}(i)} \\frac{PR_j}{L_j}$$\n",
    "<br>\n",
    "<br>\n",
    "<div align=\"center\">\n",
    "<img src=\"./Images/PageRankDistributed2.png\" width=\"400px\"></img>\n",
    "** Figure 5.**: PageRank \n",
    "</div>\n",
    "\n",
    "L'opération decrite dans l'equation 7. peut être calculer de manière indépendante (en parallèle) pour tous les noeuds du graphes. C'est l'approche qui est développée dans des logiciels pour de calcul de grands volumes de données tels que: \n",
    "\n",
    "* [Spark/Graphx](http://spark.apache.org/)\n",
    "* [Graphlab](https://dato.com/)\n",
    "\n",
    "ou plus simplement dans certaines librairies de calcul parallèle utilisant la thèorie des graphes:\n",
    "\n",
    "* [boost graph](http://www.boost.org/doc/libs/1_46_0/libs/graph_parallel/doc/html/page_rank.html)\n",
    "* [graph-tool](https://graph-tool.skewed.de/)\n",
    "<br>\n",
    "<br>\n",
    "<div align=\"center\">\n",
    "<img src=\"./Images/PageRankDistributed.png\" width=\"500px\"></img>\n",
    "** Algo 3.**: Algorithme simplifié du PageRank\n",
    "</div>"
   ]
  },
  {
   "cell_type": "code",
   "execution_count": 31,
   "metadata": {},
   "outputs": [],
   "source": [
    "def pagerank_distributed(g, alpha=0.9, max_iter=200, tol=1e-6):\n",
    "    N = len(g.nodes())\n",
    "    gc = g.copy()\n",
    "    \n",
    "    # on modifie le graphe pour ajouter les transitions au dangling node  \n",
    "    for dangling in g.nodes():\n",
    "        if gc.out_degree(dangling) == 0:\n",
    "            for n in g.nodes():\n",
    "                gc.add_edge(dangling, n)\n",
    "\n",
    "    # on initialise le pagerank a chaque noeud du graphe\n",
    "    for node in gc.nodes():\n",
    "        gc.node[node]['PageRankOld'] = 1.0/N\n",
    "    \n",
    "    # Power iteration\n",
    "    for _ in range(max_iter):\n",
    "        ######################################################\n",
    "        x=[]\n",
    "        for node in gc.nodes():\n",
    "           \n",
    "            PR=sum(gc.node[s]['PageRankOld']/gc.out_degree(s) for (s,t) in gc.in_edges(node))\n",
    "            gc.node[node]['PageRank']=(1-alpha)/N +alpha*PR\n",
    "        diff=sum(abs(gc.node[n]['PageRankOld']-gc.node[n]['PageRank']) for n in gc.nodes())     \n",
    "        for node in gc.nodes():\n",
    "         gc.node[node]['PageRankOld'] = gc.node[node]['PageRank']\n",
    "         \n",
    "        #####################################################   \n",
    "        if tol > N*diff:\n",
    "            return [gc.node[n]['PageRank'] for n in gc.nodes()]"
   ]
  },
  {
   "cell_type": "code",
   "execution_count": 32,
   "metadata": {
    "scrolled": true
   },
   "outputs": [
    {
     "name": "stdout",
     "output_type": "stream",
     "text": [
      "[0.0372119873811025, 0.05395738811699192, 0.04150567933532273, 0.37508077029418346, 0.20599832111968525, 0.28624585375271416]\n"
     ]
    }
   ],
   "source": [
    "PR = pagerank_distributed(g)\n",
    "print(PR)\n",
    "# Resultat:  \n",
    "# PR = [ 0.03721313  0.05395937  0.04150701  0.37507848  0.20599777  0.28624425]"
   ]
  },
  {
   "cell_type": "markdown",
   "metadata": {},
   "source": [
    "## Références\n",
    "\n",
    "[1] Amy N. Langville, Carl D. Meyer, \"[Deeper Inside PageRank](http://projecteuclid.org/euclid.im/1109190965)\", Internet Math., Vol. 1(3), pp. 335--380, 2003.\n",
    "\n",
    "[2] Jon Kleinberg, \"[Authoritative sources in a hyperlinked environment](http://www.cs.cornell.edu/home/kleinber/auth.pdf)\",  Journal of the ACM, 46(5), pp. 604–632, 1999.\n",
    "\n",
    "[3] L. Page, S. Brin, R. Motwani, T. Winograd, \"[The PageRank citation ranking: Bringing order to the Web](http://ilpubs.stanford.edu:8090/422/1/1999-66.pdf)\", published as a technical report on January 29, 1998."
   ]
  }
 ],
 "metadata": {
  "kernelspec": {
   "display_name": "Python 3",
   "language": "python",
   "name": "python3"
  },
  "language_info": {
   "codemirror_mode": {
    "name": "ipython",
    "version": 3
   },
   "file_extension": ".py",
   "mimetype": "text/x-python",
   "name": "python",
   "nbconvert_exporter": "python",
   "pygments_lexer": "ipython3",
   "version": "3.7.0"
  }
 },
 "nbformat": 4,
 "nbformat_minor": 1
}
